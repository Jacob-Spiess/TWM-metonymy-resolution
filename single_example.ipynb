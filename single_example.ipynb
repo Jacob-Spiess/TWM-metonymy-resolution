{
 "cells": [
  {
   "cell_type": "markdown",
   "metadata": {},
   "source": [
    "## Build Enviroment"
   ]
  },
  {
   "cell_type": "code",
   "execution_count": 1,
   "metadata": {
    "scrolled": true
   },
   "outputs": [
    {
     "name": "stderr",
     "output_type": "stream",
     "text": [
      "ERROR: Could not find a version that satisfies the requirement torch==1.6.0 (from versions: 1.7.1, 1.8.0, 1.8.1, 1.9.0, 1.9.1, 1.10.0, 1.10.1, 1.10.2, 1.11.0, 1.12.0, 1.12.1)\n",
      "ERROR: No matching distribution found for torch==1.6.0\n"
     ]
    }
   ],
   "source": [
    "!pip install -r requirements.txt"
   ]
  },
  {
   "cell_type": "markdown",
   "metadata": {},
   "source": [
    "# Train a model\n",
    "\n",
    "To train a model you should specify the arguments, for example:\n",
    "\n",
    "```bash\n",
    "python run_metonymy_resolution.py \\\n",
    "--data_dir ../data \\\n",
    "--train_file conll_train.json \\\n",
    "--predict_file conll_test.json \\\n",
    "--output_dir ../output \\\n",
    "--do_train  \\\n",
    "--do_eval \\\n",
    "--do_mask\n",
    "```\n",
    "\n",
    "# You can also use our pretrained model\n",
    "\n",
    "Download from, https://drive.google.com/file/d/1PCXkEFyK5OALQbF_64J6jSGO0IUjbYuf/view?usp=sharing\n",
    "\n",
    "Unzip and put it to ``model_folder`` (you local path).\n",
    "\n",
    "This is a pretrained bert-base-uncased model, use ./data/conll_train.json."
   ]
  },
  {
   "cell_type": "markdown",
   "metadata": {},
   "source": [
    "# Load pretrained model from ``model_folder``"
   ]
  },
  {
   "cell_type": "code",
   "execution_count": 1,
   "metadata": {},
   "outputs": [],
   "source": [
    "import numpy as np\n",
    "import sys\n",
    "sys.path.append(\"./src\")\n",
    "from utils_metonymy import *\n",
    "\n",
    "model_class = BertForWordClassification\n",
    "tokenizer_class = BertTokenizer"
   ]
  },
  {
   "cell_type": "code",
   "execution_count": 2,
   "metadata": {},
   "outputs": [],
   "source": [
    "model_folder = './output' # specify which dir the model been saved.\n",
    "\n",
    "model = model_class.from_pretrained(model_folder)\n",
    "tokenizer = tokenizer_class.from_pretrained(model_folder, do_lower_case=True)"
   ]
  },
  {
   "cell_type": "markdown",
   "metadata": {},
   "source": [
    "# Input example"
   ]
  },
  {
   "cell_type": "code",
   "execution_count": 3,
   "metadata": {},
   "outputs": [
    {
     "name": "stderr",
     "output_type": "stream",
     "text": [
      "Truncation was not explicitely activated but `max_length` is provided a specific value, please use `truncation=True` to explicitely truncate examples to max length. Defaulting to 'longest_first' truncation strategy. If you encode pairs of sequences (GLUE-style) with the tokenizer you can select this strategy more precisely by providing a specific strategy to `truncation`.\n"
     ]
    }
   ],
   "source": [
    "example = {'sentence': ['SOCCER', '-', 'ROMANIA', 'BEAT', 'LITHUANIA', 'IN', 'UNDER-21', 'MATCH.'],\n",
    "           'pos': [2, 3]}\n",
    "\n",
    "inputs = convert_single_example_to_input(example, tokenizer)"
   ]
  },
  {
   "cell_type": "markdown",
   "metadata": {},
   "source": [
    "# Run the model on the input example"
   ]
  },
  {
   "cell_type": "code",
   "execution_count": 4,
   "metadata": {
    "scrolled": true
   },
   "outputs": [
    {
     "name": "stdout",
     "output_type": "stream",
     "text": [
      "Target word:   x\n",
      "Sentence:      SOCCER - x BEAT LITHUANIA IN UNDER-21 MATCH.\n",
      "Prediction:    metonymy\n"
     ]
    }
   ],
   "source": [
    "model.zero_grad()\n",
    "model.eval()\n",
    "\n",
    "logits = model(**inputs)[0]\n",
    "\n",
    "\n",
    "preds = logits.detach().cpu().numpy()\n",
    "preds = np.argmax(preds, axis=1)\n",
    "\n",
    "label_map = {0:'literal',1:'metonymy'}\n",
    "\n",
    "print(f'Target word:   {\" \".join(example[\"sentence\"][example[\"pos\"][0]:example[\"pos\"][1]])}')\n",
    "print(f'Sentence:      {\" \".join(example[\"sentence\"])}')\n",
    "print(f'Prediction:    {label_map[preds[0]]}')"
   ]
  },
  {
   "cell_type": "code",
   "execution_count": null,
   "metadata": {},
   "outputs": [],
   "source": []
  }
 ],
 "metadata": {
  "kernelspec": {
   "display_name": "Python 3.8.8 64-bit",
   "language": "python",
   "name": "python3"
  },
  "language_info": {
   "codemirror_mode": {
    "name": "ipython",
    "version": 3
   },
   "file_extension": ".py",
   "mimetype": "text/x-python",
   "name": "python",
   "nbconvert_exporter": "python",
   "pygments_lexer": "ipython3",
   "version": "3.8.8"
  },
  "vscode": {
   "interpreter": {
    "hash": "e48de6c1652fa5291f05a21cd90986cde0d8513b8171fa91986aa48d104e17c7"
   }
  }
 },
 "nbformat": 4,
 "nbformat_minor": 2
}
