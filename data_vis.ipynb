{
 "cells": [
  {
   "cell_type": "code",
   "execution_count": 1,
   "metadata": {},
   "outputs": [
    {
     "ename": "ModuleNotFoundError",
     "evalue": "No module named 'load'",
     "output_type": "error",
     "traceback": [
      "\u001b[1;31m---------------------------------------------------------------------------\u001b[0m",
      "\u001b[1;31mModuleNotFoundError\u001b[0m                       Traceback (most recent call last)",
      "\u001b[1;32mc:\\Users\\yanwe\\Documents\\GitHub\\TWM-metonymy-resolution\\data_vis.ipynb Zelle 1\u001b[0m in \u001b[0;36m<cell line: 9>\u001b[1;34m()\u001b[0m\n\u001b[0;32m      <a href='vscode-notebook-cell:/c%3A/Users/yanwe/Documents/GitHub/TWM-metonymy-resolution/data_vis.ipynb#W0sZmlsZQ%3D%3D?line=6'>7</a>\u001b[0m \u001b[39mimport\u001b[39;00m \u001b[39mjson\u001b[39;00m\n\u001b[0;32m      <a href='vscode-notebook-cell:/c%3A/Users/yanwe/Documents/GitHub/TWM-metonymy-resolution/data_vis.ipynb#W0sZmlsZQ%3D%3D?line=7'>8</a>\u001b[0m \u001b[39mimport\u001b[39;00m \u001b[39mos\u001b[39;00m\n\u001b[1;32m----> <a href='vscode-notebook-cell:/c%3A/Users/yanwe/Documents/GitHub/TWM-metonymy-resolution/data_vis.ipynb#W0sZmlsZQ%3D%3D?line=8'>9</a>\u001b[0m \u001b[39mimport\u001b[39;00m \u001b[39mload\u001b[39;00m\n",
      "\u001b[1;31mModuleNotFoundError\u001b[0m: No module named 'load'"
     ]
    }
   ],
   "source": [
    "import numpy as np\n",
    "import pandas as pd\n",
    "import matplotlib\n",
    "import matplotlib.pyplot as plt\n",
    "matplotlib.rc('xtick', labelsize=8) \n",
    "matplotlib.rc('ytick', labelsize=8) \n",
    "import json\n",
    "import os\n",
    "import load_data"
   ]
  },
  {
   "cell_type": "markdown",
   "metadata": {},
   "source": [
    "## Original Model"
   ]
  },
  {
   "cell_type": "code",
   "execution_count": 5,
   "metadata": {},
   "outputs": [],
   "source": [
    "in_domain_new, cross_domain_new, in_domain, cross_domain, in_domain_nm, cross_domain_nm = load_data.load()"
   ]
  },
  {
   "cell_type": "markdown",
   "metadata": {},
   "source": [
    "### Plots"
   ]
  },
  {
   "cell_type": "code",
   "execution_count": null,
   "metadata": {},
   "outputs": [],
   "source": [
    "fig, axes = plt.subplots(5, 1, dpi=200, figsize = (7, 12))\n",
    "fig.tight_layout()\n",
    "for i, key in enumerate(in_domain):\n",
    "    axes[i].plot(in_domain[key][0], in_domain[key][1])\n",
    "    axes[i].set_title(key, fontsize = 8)\n",
    "    axes[i].set_ylabel('Accuracy', fontsize = 10)\n",
    "    if i == len(in_domain.keys())-1:\n",
    "        axes[i].set_xlabel('Iteration', fontsize = 10)"
   ]
  },
  {
   "cell_type": "code",
   "execution_count": null,
   "metadata": {},
   "outputs": [],
   "source": [
    "fig, axes = plt.subplots(6, 1, dpi=200, figsize = (7, 15))\n",
    "fig.tight_layout()\n",
    "for i, key in enumerate(cross_domain):\n",
    "    axes[i].plot(cross_domain[key][0], cross_domain[key][1])\n",
    "    axes[i].set_title(key, fontsize = 12)\n",
    "    axes[i].set_ylabel('Accuracy', fontsize = 10)\n",
    "    if i == len(cross_domain.keys())-1:\n",
    "        axes[i].set_xlabel('Iteration', fontsize = 10)"
   ]
  },
  {
   "cell_type": "markdown",
   "metadata": {},
   "source": [
    "### Tables"
   ]
  },
  {
   "cell_type": "code",
   "execution_count": 27,
   "metadata": {},
   "outputs": [
    {
     "name": "stdout",
     "output_type": "stream",
     "text": [
      "--------------- ORIGINAL MODEL WITH MASKING --------------- \n",
      "\n",
      "==== IN-DOMAIN ====\n",
      "dataset\t|\tmaximum  \t|\taverage\n",
      "-------------------------------------------------\n",
      "semeval\t|\t87.555 %\t|\t84.898 %\n",
      "relocar\t|\t94.300 %\t|\t91.644 %\n",
      "conll\t|\t94.851 %\t|\t94.626 %\n",
      "gwn\t|\t90.756 %\t|\t89.811 %\n",
      "wimcor\t|\t95.020 %\t|\t94.798 %\n",
      "\n",
      "\n",
      "==== CROSS-DOMAIN ====\n",
      "source-target\t|\tmaximum  \t|\taverage\n",
      "---------------------------------------------------------\n",
      "semeval-relocar\t|\t74.500 %\t|\t67.088 %\n",
      "relocar-semeval\t|\t80.396 %\t|\t73.715 %\n",
      "conll-relocar\t|\t93.400 %\t|\t93.060 %\n",
      "conll-semeval\t|\t85.242 %\t|\t80.363 %\n",
      "wimcor-relocar\t|\t85.100 %\t|\t61.730 %\n",
      "wimcor-semeval\t|\t79.626 %\t|\t75.319 %\n"
     ]
    }
   ],
   "source": [
    "print('-'*15, 'ORIGINAL MODEL WITH MASKING', '-'*15, '\\n')\n",
    "print('==== IN-DOMAIN ====')\n",
    "print('dataset\\t|\\tmaximum  \\t|\\taverage')\n",
    "print('-'*49)\n",
    "for key in in_domain:\n",
    "    print(f'{key}\\t|\\t{max(in_domain[key][1])*100:.3f} %\\t|\\t{sum(in_domain[key][1][-10:])/min((10, len(in_domain[key][1])))*100:.3f} %')\n",
    "print('\\n\\n==== CROSS-DOMAIN ====')\n",
    "print('source-target\\t|\\tmaximum  \\t|\\taverage')\n",
    "print('-'*57)\n",
    "for key in cross_domain:\n",
    "    print(f'{key}\\t|\\t{max(cross_domain[key][1])*100:.3f} %\\t|\\t{sum(cross_domain[key][1][-10:])/min((10, len(cross_domain[key][1])))*100:.3f} %')"
   ]
  },
  {
   "cell_type": "code",
   "execution_count": 6,
   "metadata": {},
   "outputs": [
    {
     "name": "stdout",
     "output_type": "stream",
     "text": [
      "---------- ORIGINAL MODEL WITHOUT MASKING ---------- \n",
      "\n",
      "==== IN-DOMAIN ====\n",
      "dataset\t|\tmaximum  \t|\taverage\n",
      "-------------------------------------------------\n",
      "semeval\t|\t87.555 %\t|\t86.200 %\n",
      "relocar\t|\t93.900 %\t|\t93.020 %\n",
      "conll\t|\t91.874 %\t|\t91.183 %\n",
      "gwn\t|\t88.445 %\t|\t87.374 %\n",
      "wimcor\t|\t93.209 %\t|\t92.827 %\n",
      "\n",
      "\n",
      "==== CROSS-DOMAIN ====\n",
      "source-target\t|\tmaximum  \t|\taverage\n",
      "---------------------------------------------------------\n",
      "semeval-relocar\t|\t73.900 %\t|\t69.570 %\n",
      "relocar-semeval\t|\t80.617 %\t|\t72.610 %\n",
      "conll-relocar\t|\t91.000 %\t|\t89.040 %\n",
      "conll-semeval\t|\t84.141 %\t|\t81.740 %\n",
      "wimcor-relocar\t|\t61.700 %\t|\t53.070 %\n",
      "wimcor-semeval\t|\t78.965 %\t|\t77.313 %\n"
     ]
    }
   ],
   "source": [
    "print('-'*10, 'ORIGINAL MODEL WITHOUT MASKING', '-'*10, '\\n')\n",
    "print('==== IN-DOMAIN ====')\n",
    "print('dataset\\t|\\tmaximum  \\t|\\taverage')\n",
    "print('-'*49)\n",
    "for key in in_domain_nm:\n",
    "    print(f'{key}\\t|\\t{max(in_domain_nm[key][1])*100:.3f} %\\t|\\t{sum(in_domain_nm[key][1][-10:])/min((10, len(in_domain_nm[key][1])))*100:.3f} %')\n",
    "print('\\n\\n==== CROSS-DOMAIN ====')\n",
    "print('source-target\\t|\\tmaximum  \\t|\\taverage')\n",
    "print('-'*57)\n",
    "for key in cross_domain_nm:\n",
    "    print(f'{key}\\t|\\t{max(cross_domain_nm[key][1])*100:.3f} %\\t|\\t{sum(cross_domain_nm[key][1][-10:])/min((10, len(cross_domain_nm[key][1])))*100:.3f} %')"
   ]
  },
  {
   "cell_type": "markdown",
   "metadata": {},
   "source": [
    "## Modified Model"
   ]
  },
  {
   "cell_type": "code",
   "execution_count": 4,
   "metadata": {},
   "outputs": [
    {
     "name": "stdout",
     "output_type": "stream",
     "text": [
      "--------------------- MODIFIED MODEL --------------------- \n",
      "\n",
      "dataset\t|\tmaximum  \t|\taverage\n",
      "-------------------------------------------------\n",
      "semeval\t|\t87.225 %\t|\t86.101 %\n",
      "relocar\t|\t94.400 %\t|\t94.010 %\n",
      "conll\t|\t95.093 %\t|\t94.682 %\n",
      "gwn\t|\t91.807 %\t|\t90.630 %\n",
      "wimcor\t|\t94.902 %\t|\t94.445 %\n",
      "\n",
      "\n",
      "source-target\t|\tmaximum  \t|\taverage\n",
      "---------------------------------------------------------\n",
      "semeval-relocar\t|\t80.200 %\t|\t72.390 %\n",
      "relocar-semeval\t|\t81.498 %\t|\t73.943 %\n",
      "conll-relocar\t|\t96.000 %\t|\t95.010 %\n",
      "conll-semeval\t|\t86.233 %\t|\t82.357 %\n",
      "wimcor-relocar\t|\t72.800 %\t|\t63.680 %\n",
      "wimcor-semeval\t|\t79.736 %\t|\t77.081 %\n"
     ]
    }
   ],
   "source": [
    "print('-'*21, 'MODIFIED MODEL', '-'*21, '\\n')\n",
    "print('dataset\\t|\\tmaximum  \\t|\\taverage')\n",
    "print('-'*49)\n",
    "for key in in_domain_new:\n",
    "    print(f'{key}\\t|\\t{max(in_domain_new[key][1])*100:.3f} %\\t|\\t{sum(in_domain_new[key][1][-10:])/min((10, len(in_domain_new[key][1])))*100:.3f} %')\n",
    "\n",
    "print('\\n\\nsource-target\\t|\\tmaximum  \\t|\\taverage')\n",
    "print('-'*57)\n",
    "for key in cross_domain_new:\n",
    "    print(f'{key}\\t|\\t{max(cross_domain_new[key][1])*100:.3f} %\\t|\\t{sum(cross_domain_new[key][1][-10:])/min((10, len(cross_domain_new[key][1])))*100:.3f} %')"
   ]
  }
 ],
 "metadata": {
  "kernelspec": {
   "display_name": "Python 3.8.8 64-bit",
   "language": "python",
   "name": "python3"
  },
  "language_info": {
   "codemirror_mode": {
    "name": "ipython",
    "version": 3
   },
   "file_extension": ".py",
   "mimetype": "text/x-python",
   "name": "python",
   "nbconvert_exporter": "python",
   "pygments_lexer": "ipython3",
   "version": "3.8.8"
  },
  "orig_nbformat": 4,
  "vscode": {
   "interpreter": {
    "hash": "e48de6c1652fa5291f05a21cd90986cde0d8513b8171fa91986aa48d104e17c7"
   }
  }
 },
 "nbformat": 4,
 "nbformat_minor": 2
}
